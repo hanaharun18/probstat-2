{
 "cells": [
  {
   "cell_type": "code",
   "execution_count": 2,
   "id": "1fb726ba-75e9-408a-87c5-bc0bf57953f7",
   "metadata": {},
   "outputs": [
    {
     "name": "stdout",
     "output_type": "stream",
     "text": [
      "Collecting mysql-connector-python\n",
      "  Downloading mysql_connector_python-9.2.0-cp312-cp312-win_amd64.whl.metadata (6.2 kB)\n",
      "Downloading mysql_connector_python-9.2.0-cp312-cp312-win_amd64.whl (16.1 MB)\n",
      "   ---------------------------------------- 0.0/16.1 MB ? eta -:--:--\n",
      "    --------------------------------------- 0.3/16.1 MB ? eta -:--:--\n",
      "   -- ------------------------------------- 1.0/16.1 MB 2.5 MB/s eta 0:00:06\n",
      "   --- ------------------------------------ 1.3/16.1 MB 2.5 MB/s eta 0:00:06\n",
      "   ---- ----------------------------------- 1.8/16.1 MB 2.5 MB/s eta 0:00:06\n",
      "   ----- ---------------------------------- 2.4/16.1 MB 2.5 MB/s eta 0:00:06\n",
      "   ------- -------------------------------- 2.9/16.1 MB 2.5 MB/s eta 0:00:06\n",
      "   -------- ------------------------------- 3.4/16.1 MB 2.4 MB/s eta 0:00:06\n",
      "   --------- ------------------------------ 3.9/16.1 MB 2.4 MB/s eta 0:00:06\n",
      "   ----------- ---------------------------- 4.5/16.1 MB 2.4 MB/s eta 0:00:05\n",
      "   ----------- ---------------------------- 4.7/16.1 MB 2.4 MB/s eta 0:00:05\n",
      "   ------------- -------------------------- 5.2/16.1 MB 2.4 MB/s eta 0:00:05\n",
      "   -------------- ------------------------- 5.8/16.1 MB 2.4 MB/s eta 0:00:05\n",
      "   -------------- ------------------------- 6.0/16.1 MB 2.4 MB/s eta 0:00:05\n",
      "   --------------- ------------------------ 6.3/16.1 MB 2.3 MB/s eta 0:00:05\n",
      "   ---------------- ----------------------- 6.6/16.1 MB 2.2 MB/s eta 0:00:05\n",
      "   ---------------- ----------------------- 6.8/16.1 MB 2.2 MB/s eta 0:00:05\n",
      "   ----------------- ---------------------- 7.1/16.1 MB 2.1 MB/s eta 0:00:05\n",
      "   ------------------ --------------------- 7.3/16.1 MB 2.0 MB/s eta 0:00:05\n",
      "   ------------------ --------------------- 7.6/16.1 MB 2.0 MB/s eta 0:00:05\n",
      "   -------------------- ------------------- 8.1/16.1 MB 2.0 MB/s eta 0:00:05\n",
      "   -------------------- ------------------- 8.4/16.1 MB 1.9 MB/s eta 0:00:04\n",
      "   --------------------- ------------------ 8.7/16.1 MB 1.9 MB/s eta 0:00:04\n",
      "   ---------------------- ----------------- 8.9/16.1 MB 1.9 MB/s eta 0:00:04\n",
      "   ----------------------- ---------------- 9.4/16.1 MB 1.9 MB/s eta 0:00:04\n",
      "   ------------------------ --------------- 9.7/16.1 MB 1.9 MB/s eta 0:00:04\n",
      "   ------------------------- -------------- 10.2/16.1 MB 1.9 MB/s eta 0:00:04\n",
      "   -------------------------- ------------- 10.5/16.1 MB 1.9 MB/s eta 0:00:03\n",
      "   --------------------------- ------------ 11.0/16.1 MB 1.9 MB/s eta 0:00:03\n",
      "   ---------------------------- ----------- 11.5/16.1 MB 1.9 MB/s eta 0:00:03\n",
      "   ----------------------------- ---------- 11.8/16.1 MB 1.9 MB/s eta 0:00:03\n",
      "   ------------------------------ --------- 12.3/16.1 MB 1.9 MB/s eta 0:00:02\n",
      "   ------------------------------- -------- 12.6/16.1 MB 1.9 MB/s eta 0:00:02\n",
      "   ------------------------------- -------- 12.8/16.1 MB 1.9 MB/s eta 0:00:02\n",
      "   -------------------------------- ------- 13.1/16.1 MB 1.9 MB/s eta 0:00:02\n",
      "   --------------------------------- ------ 13.6/16.1 MB 1.9 MB/s eta 0:00:02\n",
      "   ----------------------------------- ---- 14.2/16.1 MB 1.9 MB/s eta 0:00:02\n",
      "   ----------------------------------- ---- 14.4/16.1 MB 1.9 MB/s eta 0:00:01\n",
      "   ------------------------------------ --- 14.7/16.1 MB 1.9 MB/s eta 0:00:01\n",
      "   ------------------------------------- -- 15.2/16.1 MB 1.9 MB/s eta 0:00:01\n",
      "   ---------------------------------------  16.0/16.1 MB 1.9 MB/s eta 0:00:01\n",
      "   ---------------------------------------- 16.1/16.1 MB 1.9 MB/s eta 0:00:00\n",
      "Installing collected packages: mysql-connector-python\n",
      "Successfully installed mysql-connector-python-9.2.0\n",
      "Note: you may need to restart the kernel to use updated packages.\n"
     ]
    }
   ],
   "source": [
    "pip install mysql-connector-python"
   ]
  },
  {
   "cell_type": "code",
   "execution_count": 6,
   "id": "fc953a1c-ab6e-42c5-86c6-28639b01c47b",
   "metadata": {},
   "outputs": [
    {
     "name": "stdout",
     "output_type": "stream",
     "text": [
      "('Hana;P;2024;155;15;Jakarta',)\n",
      "('Jorji;L;2024;160;70;Tanggerang',)\n",
      "('Arip;L;2024;170;60;Bekasi',)\n",
      "('Satria;L;2024;170;30;Jakarta',)\n",
      "('Fadhil;L;2024;170;40;Bekasi',)\n",
      "('Zul;L;2024;170;45;Tanggerang',)\n",
      "('Jonathan;L;2024;170;60;Tanggerang',)\n",
      "('Yuda;L;2024;170;51;Jaksel',)\n",
      "('Joe;P;2024;150;30;Jaktim',)\n",
      "('Agnar;L;2024;165;50;Grogol',)\n",
      "('Adit;L;2024;165;80;Jawa',)\n",
      "('Kahfi;L;2024;165;70;Jambi',)\n",
      "('Raziq;L;2024;165;60;Maluku',)\n",
      "('Gusti;L;2024;165;13;Manado',)\n",
      "('Zufar;L;2024;165;15;Timur Leste',)\n",
      "('Didi;L;2024;165;56;Brumai',)\n",
      "('Bela;L;2024;165;34;Bekasi',)\n",
      "('Echa;P;2024;165;24;Bintaro',)\n",
      "('Ratu;P;2024;159;10;Jaktim',)\n",
      "('Razan;L;2024;170;20;Bekasi',)\n",
      "('Santoso;L;2024;158;47;Depok',)\n",
      "('Wibowo;L;2024;165;86;Bogor',)\n",
      "('Saputra;L;2024;170;33;Cikarang',)\n",
      "('Utomo;L;2024;155;12;Ciputat',)\n",
      "('Kurniawan;L;2024;162;75;Serpong',)\n",
      "('Handoko;L;2024;168;22;Bandung',)\n",
      "('Nugroho;L;2024;159;90;Surabaya',)\n",
      "('Wijayanto;L;2024;160;59;Medan',)\n",
      "('Setiawan;L;2024;163;17;Makassar',)\n",
      "('Mahardika;L;2024;167;64;Denpasar ',)\n"
     ]
    }
   ],
   "source": [
    "import mysql.connector\n",
    "\n",
    "# Membuat koneksi ke MySQL\n",
    "connection = mysql.connector.connect(\n",
    "    host=\"localhost\",\n",
    "    user=\"root\",\n",
    "    password=\"\",\n",
    "    database=\"PS2[hana]\"\n",
    ")\n",
    "\n",
    "# Membuat objek cursor untuk mengeksekusi kueri\n",
    "cursor = connection.cursor()\n",
    "\n",
    "try:\n",
    "    # Menentukan perintah SQL (kueri)\n",
    "    my_query = \"SELECT * FROM hanatugas;\"  # Ganti 'nama' dengan nama tabelmu\n",
    "\n",
    "    # Mengeksekusi kueri\n",
    "    cursor.execute(my_query)\n",
    "\n",
    "    # Mengambil semua hasil kueri\n",
    "    result = cursor.fetchall()\n",
    "\n",
    "    # Menampilkan hasil kueri\n",
    "    for row in result:\n",
    "        print(row)\n",
    "\n",
    "finally:\n",
    "    # Menutup kursor dan koneksi\n",
    "    cursor.close()\n",
    "    connection.close()\n"
   ]
  },
  {
   "cell_type": "code",
   "execution_count": 22,
   "id": "c8162e53-2ff6-4c94-bd22-8d98f3a4054d",
   "metadata": {},
   "outputs": [
    {
     "name": "stdout",
     "output_type": "stream",
     "text": [
      "Columns awal: Index(['Nama;Gender;Angkatan;Tinggi Badan;Waktu Belajar;Wilayah Tinggal'], dtype='object')\n",
      "Columns baru: Index(['Nama', 'Gender', 'Angkatan', 'Tinggi Badan', 'Waktu Belajar',\n",
      "       'Wilayah Tinggal'],\n",
      "      dtype='object')\n",
      "\n",
      "Data:\n",
      "         Nama Gender Angkatan Tinggi Badan Waktu Belajar Wilayah Tinggal\n",
      "0        Hana      P     2024          155            15         Jakarta\n",
      "1       Jorji      L     2024          160            70      Tanggerang\n",
      "2        Arip      L     2024          170            60          Bekasi\n",
      "3      Satria      L     2024          170            30         Jakarta\n",
      "4      Fadhil      L     2024          170            40          Bekasi\n",
      "5         Zul      L     2024          170            45      Tanggerang\n",
      "6    Jonathan      L     2024          170            60      Tanggerang\n",
      "7        Yuda      L     2024          170            51          Jaksel\n",
      "8         Joe      P     2024          150            30          Jaktim\n",
      "9       Agnar      L     2024          165            50          Grogol\n",
      "10       Adit      L     2024          165            80            Jawa\n",
      "11      Kahfi      L     2024          165            70           Jambi\n",
      "12      Raziq      L     2024          165            60          Maluku\n",
      "13      Gusti      L     2024          165            13          Manado\n",
      "14      Zufar      L     2024          165            15     Timur Leste\n",
      "15       Didi      L     2024          165            56          Brumai\n",
      "16       Bela      L     2024          165            34          Bekasi\n",
      "17       Echa      P     2024          165            24         Bintaro\n",
      "18       Ratu      P     2024          159            10          Jaktim\n",
      "19      Razan      L     2024          170            20          Bekasi\n",
      "20    Santoso      L     2024          158            47           Depok\n",
      "21     Wibowo      L     2024          165            86           Bogor\n",
      "22    Saputra      L     2024          170            33        Cikarang\n",
      "23      Utomo      L     2024          155            12         Ciputat\n",
      "24  Kurniawan      L     2024          162            75         Serpong\n",
      "25    Handoko      L     2024          168            22         Bandung\n",
      "26    Nugroho      L     2024          159            90        Surabaya\n",
      "27  Wijayanto      L     2024          160            59           Medan\n",
      "28   Setiawan      L     2024          163            17        Makassar\n",
      "29  Mahardika      L     2024          167            64       Denpasar \n"
     ]
    }
   ],
   "source": [
    "import pandas as pd\n",
    "\n",
    "# Buat DataFrame awal dari hasil query (result)\n",
    "# Nama kolom diambil dari cursor.description, sehingga df awal memiliki 1 kolom:\n",
    "df = pd.DataFrame(result, columns=[desc[0] for desc in cursor.description])\n",
    "print(\"Columns awal:\", df.columns)\n",
    "\n",
    "# Jika hanya ada satu kolom dan mengandung delimiter ';', lakukan split agar data terpisah\n",
    "if len(df.columns) == 1 and ';' in df.columns[0]:\n",
    "    df = df[df.columns[0]].str.split(';', expand=True)\n",
    "\n",
    "# Ganti nama kolom secara manual\n",
    "df.columns = [\"Nama\", \"Gender\", \"Angkatan\", \"Tinggi Badan\", \"Waktu Belajar\", \"Wilayah Tinggal\"]\n",
    "\n",
    "# Tampilkan kolom dan data setelah pergantian nama\n",
    "print(\"Columns baru:\", df.columns)\n",
    "print(\"\\nData:\")\n",
    "print(df)\n",
    "# Filter data untuk baris dengan Gender 'Pria'\n",
    "df_filtered = df[df['Gender'] == 'Pria']\n",
    "\n",
    "# Menghitung jumlah baris data yang memenuhi filter\n",
    "jumlah_pria = df_filtered.shape[0]\n",
    "\n",
    "print(\"Jumlah data Pria:\", jumlah_pria)\n"
   ]
  },
  {
   "cell_type": "code",
   "execution_count": 28,
   "id": "253b53f7-bbad-43b7-bae5-772425146e55",
   "metadata": {},
   "outputs": [
    {
     "name": "stdout",
     "output_type": "stream",
     "text": [
      "Jumlah data Pria: 26\n"
     ]
    }
   ],
   "source": [
    "# Filter data untuk baris dengan Gender 'Pria'\n",
    "df_filtered = df[df['Gender'] == 'L']\n",
    "\n",
    "# Menghitung jumlah baris data yang memenuhi filter\n",
    "L = df_filtered.shape[0]\n",
    "\n",
    "print(\"Jumlah data Pria:\", L)\n"
   ]
  },
  {
   "cell_type": "code",
   "execution_count": 30,
   "id": "bfe609de-e056-4eb8-8555-64e6aab3b75a",
   "metadata": {},
   "outputs": [
    {
     "ename": "KeyError",
     "evalue": "'Gender'",
     "output_type": "error",
     "traceback": [
      "\u001b[1;31m---------------------------------------------------------------------------\u001b[0m",
      "\u001b[1;31mKeyError\u001b[0m                                  Traceback (most recent call last)",
      "File \u001b[1;32m~\\anaconda3\\Lib\\site-packages\\pandas\\core\\indexes\\base.py:3805\u001b[0m, in \u001b[0;36mIndex.get_loc\u001b[1;34m(self, key)\u001b[0m\n\u001b[0;32m   3804\u001b[0m \u001b[38;5;28;01mtry\u001b[39;00m:\n\u001b[1;32m-> 3805\u001b[0m     \u001b[38;5;28;01mreturn\u001b[39;00m \u001b[38;5;28mself\u001b[39m\u001b[38;5;241m.\u001b[39m_engine\u001b[38;5;241m.\u001b[39mget_loc(casted_key)\n\u001b[0;32m   3806\u001b[0m \u001b[38;5;28;01mexcept\u001b[39;00m \u001b[38;5;167;01mKeyError\u001b[39;00m \u001b[38;5;28;01mas\u001b[39;00m err:\n",
      "File \u001b[1;32mindex.pyx:167\u001b[0m, in \u001b[0;36mpandas._libs.index.IndexEngine.get_loc\u001b[1;34m()\u001b[0m\n",
      "File \u001b[1;32mindex.pyx:196\u001b[0m, in \u001b[0;36mpandas._libs.index.IndexEngine.get_loc\u001b[1;34m()\u001b[0m\n",
      "File \u001b[1;32mpandas\\\\_libs\\\\hashtable_class_helper.pxi:7081\u001b[0m, in \u001b[0;36mpandas._libs.hashtable.PyObjectHashTable.get_item\u001b[1;34m()\u001b[0m\n",
      "File \u001b[1;32mpandas\\\\_libs\\\\hashtable_class_helper.pxi:7089\u001b[0m, in \u001b[0;36mpandas._libs.hashtable.PyObjectHashTable.get_item\u001b[1;34m()\u001b[0m\n",
      "\u001b[1;31mKeyError\u001b[0m: 'Gender'",
      "\nThe above exception was the direct cause of the following exception:\n",
      "\u001b[1;31mKeyError\u001b[0m                                  Traceback (most recent call last)",
      "Cell \u001b[1;32mIn[30], line 7\u001b[0m\n\u001b[0;32m      4\u001b[0m df \u001b[38;5;241m=\u001b[39m pd\u001b[38;5;241m.\u001b[39mDataFrame(result, columns\u001b[38;5;241m=\u001b[39m[desc[\u001b[38;5;241m0\u001b[39m] \u001b[38;5;28;01mfor\u001b[39;00m desc \u001b[38;5;129;01min\u001b[39;00m cursor\u001b[38;5;241m.\u001b[39mdescription])\n\u001b[0;32m      6\u001b[0m \u001b[38;5;66;03m# Filter data berdasarkan kolom 'Gender' yang bernilai 'L'\u001b[39;00m\n\u001b[1;32m----> 7\u001b[0m df_filtered \u001b[38;5;241m=\u001b[39m df[df[\u001b[38;5;124m'\u001b[39m\u001b[38;5;124mGender\u001b[39m\u001b[38;5;124m'\u001b[39m] \u001b[38;5;241m==\u001b[39m \u001b[38;5;124m'\u001b[39m\u001b[38;5;124mL\u001b[39m\u001b[38;5;124m'\u001b[39m]\n\u001b[0;32m      9\u001b[0m \u001b[38;5;66;03m# Menampilkan hasil filter\u001b[39;00m\n\u001b[0;32m     10\u001b[0m \u001b[38;5;28mprint\u001b[39m(df_filtered)\n",
      "File \u001b[1;32m~\\anaconda3\\Lib\\site-packages\\pandas\\core\\frame.py:4102\u001b[0m, in \u001b[0;36mDataFrame.__getitem__\u001b[1;34m(self, key)\u001b[0m\n\u001b[0;32m   4100\u001b[0m \u001b[38;5;28;01mif\u001b[39;00m \u001b[38;5;28mself\u001b[39m\u001b[38;5;241m.\u001b[39mcolumns\u001b[38;5;241m.\u001b[39mnlevels \u001b[38;5;241m>\u001b[39m \u001b[38;5;241m1\u001b[39m:\n\u001b[0;32m   4101\u001b[0m     \u001b[38;5;28;01mreturn\u001b[39;00m \u001b[38;5;28mself\u001b[39m\u001b[38;5;241m.\u001b[39m_getitem_multilevel(key)\n\u001b[1;32m-> 4102\u001b[0m indexer \u001b[38;5;241m=\u001b[39m \u001b[38;5;28mself\u001b[39m\u001b[38;5;241m.\u001b[39mcolumns\u001b[38;5;241m.\u001b[39mget_loc(key)\n\u001b[0;32m   4103\u001b[0m \u001b[38;5;28;01mif\u001b[39;00m is_integer(indexer):\n\u001b[0;32m   4104\u001b[0m     indexer \u001b[38;5;241m=\u001b[39m [indexer]\n",
      "File \u001b[1;32m~\\anaconda3\\Lib\\site-packages\\pandas\\core\\indexes\\base.py:3812\u001b[0m, in \u001b[0;36mIndex.get_loc\u001b[1;34m(self, key)\u001b[0m\n\u001b[0;32m   3807\u001b[0m     \u001b[38;5;28;01mif\u001b[39;00m \u001b[38;5;28misinstance\u001b[39m(casted_key, \u001b[38;5;28mslice\u001b[39m) \u001b[38;5;129;01mor\u001b[39;00m (\n\u001b[0;32m   3808\u001b[0m         \u001b[38;5;28misinstance\u001b[39m(casted_key, abc\u001b[38;5;241m.\u001b[39mIterable)\n\u001b[0;32m   3809\u001b[0m         \u001b[38;5;129;01mand\u001b[39;00m \u001b[38;5;28many\u001b[39m(\u001b[38;5;28misinstance\u001b[39m(x, \u001b[38;5;28mslice\u001b[39m) \u001b[38;5;28;01mfor\u001b[39;00m x \u001b[38;5;129;01min\u001b[39;00m casted_key)\n\u001b[0;32m   3810\u001b[0m     ):\n\u001b[0;32m   3811\u001b[0m         \u001b[38;5;28;01mraise\u001b[39;00m InvalidIndexError(key)\n\u001b[1;32m-> 3812\u001b[0m     \u001b[38;5;28;01mraise\u001b[39;00m \u001b[38;5;167;01mKeyError\u001b[39;00m(key) \u001b[38;5;28;01mfrom\u001b[39;00m \u001b[38;5;21;01merr\u001b[39;00m\n\u001b[0;32m   3813\u001b[0m \u001b[38;5;28;01mexcept\u001b[39;00m \u001b[38;5;167;01mTypeError\u001b[39;00m:\n\u001b[0;32m   3814\u001b[0m     \u001b[38;5;66;03m# If we have a listlike key, _check_indexing_error will raise\u001b[39;00m\n\u001b[0;32m   3815\u001b[0m     \u001b[38;5;66;03m#  InvalidIndexError. Otherwise we fall through and re-raise\u001b[39;00m\n\u001b[0;32m   3816\u001b[0m     \u001b[38;5;66;03m#  the TypeError.\u001b[39;00m\n\u001b[0;32m   3817\u001b[0m     \u001b[38;5;28mself\u001b[39m\u001b[38;5;241m.\u001b[39m_check_indexing_error(key)\n",
      "\u001b[1;31mKeyError\u001b[0m: 'Gender'"
     ]
    }
   ],
   "source": [
    "import pandas as pd\n",
    "\n",
    "# Mengonversi hasil kueri ke DataFrame Pandas\n",
    "df = pd.DataFrame(result, columns=[desc[0] for desc in cursor.description])\n",
    "\n",
    "# Filter data berdasarkan kolom 'Gender' yang bernilai 'L'\n",
    "df_filtered = df[df['Gender'] == 'L']\n",
    "\n",
    "# Menampilkan hasil filter\n",
    "print(df_filtered)"
   ]
  },
  {
   "cell_type": "code",
   "execution_count": 34,
   "id": "151e6f7c-21b0-4b8d-af75-2fe12da41c19",
   "metadata": {},
   "outputs": [
    {
     "name": "stdout",
     "output_type": "stream",
     "text": [
      "[[  3  15]\n",
      " [-27  38]]\n"
     ]
    }
   ],
   "source": [
    "#MATRIKS\n",
    "import numpy as np\n",
    "cells = [3, 15, -27, 38]\n",
    "r_nama = [\"R1\", \"R2\"]\n",
    "c_nama = [\"C1\", \"C2\"]\n",
    "hana_matrix = np.matrix(cells).reshape(2, 2)\n",
    "print(hana_matrix)"
   ]
  },
  {
   "cell_type": "code",
   "execution_count": 40,
   "id": "390580bc-9297-486a-b2ee-95f34f8691ad",
   "metadata": {},
   "outputs": [
    {
     "name": "stdout",
     "output_type": "stream",
     "text": [
      "   ID  Color  Passed\n",
      "0   1    red    True\n",
      "1   2  white    True\n",
      "2   3    red    True\n",
      "3   4    NaN   False\n"
     ]
    }
   ],
   "source": [
    "import pandas as pd\n",
    "import numpy as np\n",
    "\n",
    "hana1 = [1, 2, 3, 4]\n",
    "hana2 = [\"red\", \"white\", \"red\", np.nan]  # Menggunakan np.nan untuk merepresentasikan NA\n",
    "hana3 = [True, True, True, False]\n",
    "\n",
    "dataku = pd.DataFrame({'ID': hana1, 'Color': hana2, 'Passed': hana3})\n",
    "print(dataku)"
   ]
  },
  {
   "cell_type": "code",
   "execution_count": 42,
   "id": "f7457f62-bb00-4719-b045-8f34a8d68da1",
   "metadata": {},
   "outputs": [
    {
     "name": "stdout",
     "output_type": "stream",
     "text": [
      "  id   x   y\n",
      "0  a   1  11\n",
      "1  b   2  12\n",
      "2  c   3  13\n",
      "3  d   4  14\n",
      "4  e   5  15\n",
      "5  f   6  16\n",
      "6  g   7  17\n",
      "7  h   8  18\n",
      "8  i   9  19\n",
      "9  j  10  20\n"
     ]
    }
   ],
   "source": [
    "import pandas as pd\n",
    "\n",
    "data_hana = pd.DataFrame({'id': list('abcdefghij'), 'x': list(range(1, 11)), 'y': list(range(11, 21))})\n",
    "print(data_hana)"
   ]
  },
  {
   "cell_type": "code",
   "execution_count": null,
   "id": "3bcaf81b-a802-4cc5-897f-723a229f545d",
   "metadata": {},
   "outputs": [],
   "source": []
  }
 ],
 "metadata": {
  "kernelspec": {
   "display_name": "Python [conda env:base] *",
   "language": "python",
   "name": "conda-base-py"
  },
  "language_info": {
   "codemirror_mode": {
    "name": "ipython",
    "version": 3
   },
   "file_extension": ".py",
   "mimetype": "text/x-python",
   "name": "python",
   "nbconvert_exporter": "python",
   "pygments_lexer": "ipython3",
   "version": "3.12.7"
  }
 },
 "nbformat": 4,
 "nbformat_minor": 5
}
